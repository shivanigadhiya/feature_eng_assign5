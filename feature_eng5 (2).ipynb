{
 "cells": [
  {
   "cell_type": "markdown",
   "id": "3dc2f246-a4a4-4fe5-8d8c-d10011908405",
   "metadata": {},
   "source": [
    "Q1. Pearson correlation coefficient is a measure of the linear relationship between two variables. Suppose\n",
    "you have collected data on the amount of time students spend studying for an exam and their final exam\n",
    "scores. Calculate the Pearson correlation coefficient between these two variables and interpret the result."
   ]
  },
  {
   "cell_type": "code",
   "execution_count": 23,
   "id": "f2a11f67-ab06-4e4c-b1d2-0f83d65d8517",
   "metadata": {},
   "outputs": [],
   "source": [
    "import pandas as pd"
   ]
  },
  {
   "cell_type": "code",
   "execution_count": 24,
   "id": "1c8f77c9-c918-41ce-97cc-f1f26ce3a9a3",
   "metadata": {},
   "outputs": [],
   "source": [
    "df = pd.DataFrame({'study_time': [2,4,6,8,10],'exam_score':[30,50,70,90,92]})"
   ]
  },
  {
   "cell_type": "code",
   "execution_count": 25,
   "id": "34918910-5f47-4a6f-a2c2-045e2ceb8541",
   "metadata": {},
   "outputs": [
    {
     "data": {
      "text/html": [
       "<div>\n",
       "<style scoped>\n",
       "    .dataframe tbody tr th:only-of-type {\n",
       "        vertical-align: middle;\n",
       "    }\n",
       "\n",
       "    .dataframe tbody tr th {\n",
       "        vertical-align: top;\n",
       "    }\n",
       "\n",
       "    .dataframe thead th {\n",
       "        text-align: right;\n",
       "    }\n",
       "</style>\n",
       "<table border=\"1\" class=\"dataframe\">\n",
       "  <thead>\n",
       "    <tr style=\"text-align: right;\">\n",
       "      <th></th>\n",
       "      <th>study_time</th>\n",
       "      <th>exam_score</th>\n",
       "    </tr>\n",
       "  </thead>\n",
       "  <tbody>\n",
       "    <tr>\n",
       "      <th>0</th>\n",
       "      <td>2</td>\n",
       "      <td>30</td>\n",
       "    </tr>\n",
       "    <tr>\n",
       "      <th>1</th>\n",
       "      <td>4</td>\n",
       "      <td>50</td>\n",
       "    </tr>\n",
       "    <tr>\n",
       "      <th>2</th>\n",
       "      <td>6</td>\n",
       "      <td>70</td>\n",
       "    </tr>\n",
       "    <tr>\n",
       "      <th>3</th>\n",
       "      <td>8</td>\n",
       "      <td>90</td>\n",
       "    </tr>\n",
       "    <tr>\n",
       "      <th>4</th>\n",
       "      <td>10</td>\n",
       "      <td>92</td>\n",
       "    </tr>\n",
       "  </tbody>\n",
       "</table>\n",
       "</div>"
      ],
      "text/plain": [
       "   study_time  exam_score\n",
       "0           2          30\n",
       "1           4          50\n",
       "2           6          70\n",
       "3           8          90\n",
       "4          10          92"
      ]
     },
     "execution_count": 25,
     "metadata": {},
     "output_type": "execute_result"
    }
   ],
   "source": [
    "df"
   ]
  },
  {
   "cell_type": "code",
   "execution_count": 26,
   "id": "77cfa56d-80b1-4a15-9297-120bf31b62bd",
   "metadata": {},
   "outputs": [
    {
     "data": {
      "text/html": [
       "<div>\n",
       "<style scoped>\n",
       "    .dataframe tbody tr th:only-of-type {\n",
       "        vertical-align: middle;\n",
       "    }\n",
       "\n",
       "    .dataframe tbody tr th {\n",
       "        vertical-align: top;\n",
       "    }\n",
       "\n",
       "    .dataframe thead th {\n",
       "        text-align: right;\n",
       "    }\n",
       "</style>\n",
       "<table border=\"1\" class=\"dataframe\">\n",
       "  <thead>\n",
       "    <tr style=\"text-align: right;\">\n",
       "      <th></th>\n",
       "      <th>study_time</th>\n",
       "      <th>exam_score</th>\n",
       "    </tr>\n",
       "  </thead>\n",
       "  <tbody>\n",
       "    <tr>\n",
       "      <th>study_time</th>\n",
       "      <td>1.000000</td>\n",
       "      <td>0.976744</td>\n",
       "    </tr>\n",
       "    <tr>\n",
       "      <th>exam_score</th>\n",
       "      <td>0.976744</td>\n",
       "      <td>1.000000</td>\n",
       "    </tr>\n",
       "  </tbody>\n",
       "</table>\n",
       "</div>"
      ],
      "text/plain": [
       "            study_time  exam_score\n",
       "study_time    1.000000    0.976744\n",
       "exam_score    0.976744    1.000000"
      ]
     },
     "execution_count": 26,
     "metadata": {},
     "output_type": "execute_result"
    }
   ],
   "source": [
    "df.corr(method='pearson')"
   ]
  },
  {
   "cell_type": "markdown",
   "id": "4d198508-e757-4e9d-8b28-aadd7bc1660c",
   "metadata": {},
   "source": [
    "Q2. Spearman's rank correlation is a measure of the monotonic relationship between two variables.\n",
    "Suppose you have collected data on the amount of sleep individuals get each night and their overall job\n",
    "satisfaction level on a scale of 1 to 10. Calculate the Spearman's rank correlation between these two\n",
    "variables and interpret the result."
   ]
  },
  {
   "cell_type": "code",
   "execution_count": 27,
   "id": "c46e01b1-72ee-4f71-a4b6-bc42ee1c5e67",
   "metadata": {},
   "outputs": [],
   "source": [
    "import pandas as pd"
   ]
  },
  {
   "cell_type": "code",
   "execution_count": 28,
   "id": "c448ee3c-17b6-42ab-95f3-9599134750d8",
   "metadata": {},
   "outputs": [],
   "source": [
    "df = pd.DataFrame({'sleep_hours':[6,7,8,9],'satisfaction_level':[5,6,8,9]})"
   ]
  },
  {
   "cell_type": "code",
   "execution_count": 29,
   "id": "7e269066-08ef-4fa7-9681-472f42e50847",
   "metadata": {},
   "outputs": [
    {
     "data": {
      "text/html": [
       "<div>\n",
       "<style scoped>\n",
       "    .dataframe tbody tr th:only-of-type {\n",
       "        vertical-align: middle;\n",
       "    }\n",
       "\n",
       "    .dataframe tbody tr th {\n",
       "        vertical-align: top;\n",
       "    }\n",
       "\n",
       "    .dataframe thead th {\n",
       "        text-align: right;\n",
       "    }\n",
       "</style>\n",
       "<table border=\"1\" class=\"dataframe\">\n",
       "  <thead>\n",
       "    <tr style=\"text-align: right;\">\n",
       "      <th></th>\n",
       "      <th>sleep_hours</th>\n",
       "      <th>satisfaction_level</th>\n",
       "    </tr>\n",
       "  </thead>\n",
       "  <tbody>\n",
       "    <tr>\n",
       "      <th>0</th>\n",
       "      <td>6</td>\n",
       "      <td>5</td>\n",
       "    </tr>\n",
       "    <tr>\n",
       "      <th>1</th>\n",
       "      <td>7</td>\n",
       "      <td>6</td>\n",
       "    </tr>\n",
       "    <tr>\n",
       "      <th>2</th>\n",
       "      <td>8</td>\n",
       "      <td>8</td>\n",
       "    </tr>\n",
       "    <tr>\n",
       "      <th>3</th>\n",
       "      <td>9</td>\n",
       "      <td>9</td>\n",
       "    </tr>\n",
       "  </tbody>\n",
       "</table>\n",
       "</div>"
      ],
      "text/plain": [
       "   sleep_hours  satisfaction_level\n",
       "0            6                   5\n",
       "1            7                   6\n",
       "2            8                   8\n",
       "3            9                   9"
      ]
     },
     "execution_count": 29,
     "metadata": {},
     "output_type": "execute_result"
    }
   ],
   "source": [
    "df"
   ]
  },
  {
   "cell_type": "code",
   "execution_count": 30,
   "id": "c95856b6-24e9-460a-970c-a00871cf79cb",
   "metadata": {},
   "outputs": [
    {
     "data": {
      "text/html": [
       "<div>\n",
       "<style scoped>\n",
       "    .dataframe tbody tr th:only-of-type {\n",
       "        vertical-align: middle;\n",
       "    }\n",
       "\n",
       "    .dataframe tbody tr th {\n",
       "        vertical-align: top;\n",
       "    }\n",
       "\n",
       "    .dataframe thead th {\n",
       "        text-align: right;\n",
       "    }\n",
       "</style>\n",
       "<table border=\"1\" class=\"dataframe\">\n",
       "  <thead>\n",
       "    <tr style=\"text-align: right;\">\n",
       "      <th></th>\n",
       "      <th>sleep_hours</th>\n",
       "      <th>satisfaction_level</th>\n",
       "    </tr>\n",
       "  </thead>\n",
       "  <tbody>\n",
       "    <tr>\n",
       "      <th>sleep_hours</th>\n",
       "      <td>1.0</td>\n",
       "      <td>1.0</td>\n",
       "    </tr>\n",
       "    <tr>\n",
       "      <th>satisfaction_level</th>\n",
       "      <td>1.0</td>\n",
       "      <td>1.0</td>\n",
       "    </tr>\n",
       "  </tbody>\n",
       "</table>\n",
       "</div>"
      ],
      "text/plain": [
       "                    sleep_hours  satisfaction_level\n",
       "sleep_hours                 1.0                 1.0\n",
       "satisfaction_level          1.0                 1.0"
      ]
     },
     "execution_count": 30,
     "metadata": {},
     "output_type": "execute_result"
    }
   ],
   "source": [
    "df.corr(method = 'spearman')"
   ]
  },
  {
   "cell_type": "markdown",
   "id": "a140077c-1c47-47b7-a7b2-cab656fd8d91",
   "metadata": {},
   "source": [
    "Q3. Suppose you are conducting a study to examine the relationship between the number of hours of\n",
    "exercise per week and body mass index (BMI) in a sample of adults. You collected data on both variables\n",
    "for 50 participants. Calculate the Pearson correlation coefficient and the Spearman's rank correlation\n",
    "between these two variables and compare the results."
   ]
  },
  {
   "cell_type": "code",
   "execution_count": 31,
   "id": "42b2323d-815d-46e3-958a-7250131318de",
   "metadata": {},
   "outputs": [],
   "source": [
    "import numpy as np\n",
    "from scipy.stats import pearsonr, spearmanr"
   ]
  },
  {
   "cell_type": "code",
   "execution_count": 32,
   "id": "18c10baa-1507-4289-9af8-4fcfbaf638fe",
   "metadata": {},
   "outputs": [],
   "source": [
    "exercise_hours = [3, 5, 2, 4, 6, 1, 5, 3, 2, 4, 7, 5, 3, 6, 2, 4, 3, 5, 1, 6,\n",
    "                  4, 2, 3, 5, 6, 4, 2, 1, 3, 5, 7, 4, 2, 6, 3, 5, 2, 4, 6, 1,\n",
    "                  5, 3, 2, 4, 7, 5, 3, 6, 2, 4]"
   ]
  },
  {
   "cell_type": "code",
   "execution_count": 33,
   "id": "8f7a2b5d-2f0d-484f-abad-a1001412aab5",
   "metadata": {},
   "outputs": [],
   "source": [
    "BMI = [24, 22, 28, 25, 20, 30, 22, 26, 27, 24, 18, 22, 25, 20, 28, 24, 26, 22, 30, 20,\n",
    "       25, 27, 24, 22, 20, 25, 30, 28, 26, 22, 18, 25, 27, 20, 24, 22, 28, 25, 20, 30,\n",
    "       22, 26, 27, 24, 18, 22, 25, 20, 28, 24]"
   ]
  },
  {
   "cell_type": "code",
   "execution_count": 34,
   "id": "712570f0-5f91-499b-909b-5bd82fe99567",
   "metadata": {},
   "outputs": [],
   "source": [
    "pearson_corr, _ = pearsonr(exercise_hours, BMI)"
   ]
  },
  {
   "cell_type": "code",
   "execution_count": 35,
   "id": "8092b9c4-9631-40d2-b551-879d1efc3698",
   "metadata": {},
   "outputs": [],
   "source": [
    "spearman_corr, _ = spearmanr(exercise_hours, BMI)"
   ]
  },
  {
   "cell_type": "code",
   "execution_count": 36,
   "id": "9476579d-b3d0-49e2-94df-a6aabbb59e32",
   "metadata": {},
   "outputs": [
    {
     "data": {
      "text/plain": [
       "(-0.9736227822115676, 7.984152083306716e-31)"
      ]
     },
     "execution_count": 36,
     "metadata": {},
     "output_type": "execute_result"
    }
   ],
   "source": [
    "pearson_corr, _"
   ]
  },
  {
   "cell_type": "code",
   "execution_count": 37,
   "id": "024982ca-f7ac-41e0-931b-40b29a433b40",
   "metadata": {},
   "outputs": [
    {
     "data": {
      "text/plain": [
       "(-0.9690739077479351, 7.984152083306716e-31)"
      ]
     },
     "execution_count": 37,
     "metadata": {},
     "output_type": "execute_result"
    }
   ],
   "source": [
    "spearman_corr, _ "
   ]
  },
  {
   "cell_type": "markdown",
   "id": "fb55b31e-828c-42d1-ae04-080d3b34ae77",
   "metadata": {},
   "source": [
    "Q4. A researcher is interested in examining the relationship between the number of hours individuals\n",
    "spend watching television per day and their level of physical activity. The researcher collected data on\n",
    "both variables from a sample of 50 participants. Calculate the Pearson correlation coefficient between\n",
    "these two variables."
   ]
  },
  {
   "cell_type": "code",
   "execution_count": 38,
   "id": "e161b574-f9f1-4a35-a0a1-d157c4a95396",
   "metadata": {},
   "outputs": [
    {
     "name": "stdout",
     "output_type": "stream",
     "text": [
      "Pearson correlation coefficient between TV watching hours and physical activity: -0.9736227822115682\n"
     ]
    }
   ],
   "source": [
    "import numpy as np\n",
    "\n",
    "# Sample data for hours of TV watching and level of physical activity (just for illustration)\n",
    "tv_hours = [3, 5, 2, 4, 6, 1, 5, 3, 2, 4, 7, 5, 3, 6, 2, 4, 3, 5, 1, 6,\n",
    "            4, 2, 3, 5, 6, 4, 2, 1, 3, 5, 7, 4, 2, 6, 3, 5, 2, 4, 6, 1,\n",
    "            5, 3, 2, 4, 7, 5, 3, 6, 2, 4]  # Sample TV hours\n",
    "\n",
    "physical_activity = [24, 22, 28, 25, 20, 30, 22, 26, 27, 24, 18, 22, 25, 20, 28, 24, 26, 22, 30, 20,\n",
    "                     25, 27, 24, 22, 20, 25, 30, 28, 26, 22, 18, 25, 27, 20, 24, 22, 28, 25, 20, 30,\n",
    "                     22, 26, 27, 24, 18, 22, 25, 20, 28, 24]  # Sample physical activity data\n",
    "\n",
    "# Calculate the Pearson correlation coefficient\n",
    "correlation_coefficient = np.corrcoef(tv_hours, physical_activity)[0, 1]\n",
    "\n",
    "print(\"Pearson correlation coefficient between TV watching hours and physical activity:\", correlation_coefficient)\n"
   ]
  },
  {
   "cell_type": "markdown",
   "id": "445efe26-226f-4fad-9517-3e3207466eb1",
   "metadata": {},
   "source": [
    "Q5. A survey was conducted to examine the relationship between age and preference for a particular\n",
    "brand of soft drink. The survey results are shown below:"
   ]
  },
  {
   "cell_type": "markdown",
   "id": "d6cd9f47-7631-46b8-9225-960aa4c12494",
   "metadata": {},
   "source": [
    "Q6. A company is interested in examining the relationship between the number of sales calls made per day\n",
    "and the number of sales made per week. The company collected data on both variables from a sample of\n",
    "30 sales representatives. Calculate the Pearson correlation coefficient between these two variables."
   ]
  },
  {
   "cell_type": "code",
   "execution_count": 39,
   "id": "a38dbb84-fefb-4166-b0d3-3b6e6f9ed72e",
   "metadata": {},
   "outputs": [
    {
     "name": "stdout",
     "output_type": "stream",
     "text": [
      "Pearson correlation coefficient between sales calls per day and sales made per week: 0.9640271141329444\n"
     ]
    }
   ],
   "source": [
    "import numpy as np\n",
    "\n",
    "# Sample data for sales calls per day and sales made per week (just for illustration)\n",
    "sales_calls_per_day = [20, 25, 18, 30, 22, 15, 27, 21, 19, 28, 23, 26, 24, 17, 29, 31, 20, 25, 18, 30, \n",
    "                       22, 15, 27, 21, 19, 28, 23, 26, 24, 17]\n",
    "sales_made_per_week = [5, 7, 4, 8, 6, 3, 9, 6, 5, 8, 7, 8, 7, 4, 9, 10, 5, 7, 4, 8, \n",
    "                        6, 3, 9, 6, 5, 8, 7, 8, 7, 4]\n",
    "\n",
    "# Calculate the Pearson correlation coefficient\n",
    "correlation_coefficient = np.corrcoef(sales_calls_per_day, sales_made_per_week)[0, 1]\n",
    "\n",
    "print(\"Pearson correlation coefficient between sales calls per day and sales made per week:\", correlation_coefficient)\n"
   ]
  },
  {
   "cell_type": "code",
   "execution_count": null,
   "id": "5933f333-686b-4d11-ab39-286ad3baac7c",
   "metadata": {},
   "outputs": [],
   "source": []
  },
  {
   "cell_type": "code",
   "execution_count": null,
   "id": "560cf0bc-d925-483c-a9f6-7d0bad4cc6aa",
   "metadata": {},
   "outputs": [],
   "source": []
  },
  {
   "cell_type": "code",
   "execution_count": null,
   "id": "8fe94a3b-9c1c-4ae9-9541-acade1011835",
   "metadata": {},
   "outputs": [],
   "source": []
  }
 ],
 "metadata": {
  "kernelspec": {
   "display_name": "Python 3 (ipykernel)",
   "language": "python",
   "name": "python3"
  },
  "language_info": {
   "codemirror_mode": {
    "name": "ipython",
    "version": 3
   },
   "file_extension": ".py",
   "mimetype": "text/x-python",
   "name": "python",
   "nbconvert_exporter": "python",
   "pygments_lexer": "ipython3",
   "version": "3.10.8"
  }
 },
 "nbformat": 4,
 "nbformat_minor": 5
}
